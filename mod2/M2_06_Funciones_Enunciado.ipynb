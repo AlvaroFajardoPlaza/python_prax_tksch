{
 "cells": [
  {
   "cell_type": "markdown",
   "metadata": {},
   "source": [
    "# Ejercicios Modulo 2. Funciones\n",
    "\n",
    "Consideraciones a tener en cuenta: \n",
    "\n",
    "* Guardar este documento con el siguiente formato para su entrega: __M2_06_nombre_apellido1_apellido2__\n",
    "* Realizar los ejercicios con las herramientas vistas en las sesiones. \n",
    "* Comentar el código\n",
    "* Utilizar nombres de variables apropiados, si vais a guardar una nota, llamar a esa variable nota, no n o x"
   ]
  },
  {
   "cell_type": "markdown",
   "metadata": {},
   "source": [
    "**1) Realiza una función que devuelva el área de un rectángulo a partir de su base y su altura. La función se llamará area_rectangulo(). La base y la altura se pedirán al usuario por teclado.**\n",
    "\n",
    "*Nota: El área de un rectángulo se obtiene al multiplicar la base por la altura.*"
   ]
  },
  {
   "cell_type": "code",
   "execution_count": 2,
   "metadata": {},
   "outputs": [
    {
     "name": "stdout",
     "output_type": "stream",
     "text": [
      "El area del rectángulo según las medidas introducidas por el usuario es:  15.0\n"
     ]
    }
   ],
   "source": [
    "def area_rectangulo(base, height): \n",
    "    result = base * height\n",
    "    return result\n",
    "\n",
    "base = float(input(\"La base del rectángulo es: \"))\n",
    "height = float(input(\"La base del rectángulo es: \"))\n",
    "\n",
    "print(\"El area del rectángulo según las medidas introducidas por el usuario es:\", area_rectangulo(base, height))\n"
   ]
  },
  {
   "cell_type": "markdown",
   "metadata": {},
   "source": [
    "**2) Realiza una función que devuelva el área de un círculo a partir de un radio. La función se llamará area_circulo(). El radio se pedirá al usuario por teclado:**\n",
    "\n",
    "Nota: El área de un círculo se obtiene al elevar el radio a dos y multiplicando el resultado por el número pi. Puedes utilizar el valor 3.14159 como pi o importarlo del módulo math:\n",
    "```python\n",
    "import math\n",
    "print(math.pi)\n",
    "> 3.1415...\n",
    "```"
   ]
  },
  {
   "cell_type": "code",
   "execution_count": 5,
   "metadata": {},
   "outputs": [
    {
     "name": "stdout",
     "output_type": "stream",
     "text": [
      "El área de un círculo según la medida del radio, facilitada por el usuario es: 69.39778171779854\n"
     ]
    }
   ],
   "source": [
    "import math\n",
    "# print(math.pi)\n",
    "\n",
    "# Función que calcula el area de un círculo:\n",
    "def area_circulo(radius):\n",
    "    result = (radius ** 2) * math.pi\n",
    "    return result\n",
    "\n",
    "radius = float(input(\"El radío del circulo es:\"))\n",
    "\n",
    "print(\"El área de un círculo según la medida del radio, facilitada por el usuario es:\", area_circulo(radius))"
   ]
  },
  {
   "cell_type": "markdown",
   "metadata": {},
   "source": [
    "**3) Realiza una función llamada lee_numero() que solicite y lea por teclado un numero. Utilizar esta función para pedirle al usuario 3 números. Luego pasarle estos 3 números a una función que se llame mayor() que tenga 3 parámetros y que devuelva el número mayor de los 3:**"
   ]
  },
  {
   "cell_type": "code",
   "execution_count": 17,
   "metadata": {},
   "outputs": [
    {
     "name": "stdout",
     "output_type": "stream",
     "text": [
      "1.0 4.0 7.0\n",
      "El número más alto que ha introducido el usuario es: 7.0\n"
     ]
    }
   ],
   "source": [
    "# Función que solicita y pide tres números a un usuario.\n",
    "def lee_numero():\n",
    "    num1 = float(input(\"numero 1:\"))\n",
    "    num2 = float(input(\"numero 2:\"))\n",
    "    num3 = float(input(\"numero 3:\"))\n",
    "    return num1, num2, num3\n",
    "\n",
    "# Función que recibe tres argumentos y solicita el mayor de los tres empleando el método max()\n",
    "def mayor(num1, num2, num3):\n",
    "    result = max(num1, num2, num3)\n",
    "    return result # Recuerda devolver el resultado de las operaciones que realices dentro de la función. Sino al llamar a la función, la respuesta será None!\n",
    "\n",
    "\n",
    "# Guardamos las variables con las que vamos a trabajar y el resultado final de llamar a nuestra función \"mayor()\"\n",
    "n1, n2, n3 = lee_numero()\n",
    "print(n1, n2, n3)\n",
    "\n",
    "# Podemos guardar el resultado más alto en una nueva variable o llamar directamente a la función mayor() con sus argumentos desde el print\n",
    "highest_result = mayor(n1, n2, n3)\n",
    "print(\"El número más alto que ha introducido el usuario es:\", highest_result)\n",
    "\n",
    "\n"
   ]
  },
  {
   "cell_type": "markdown",
   "metadata": {},
   "source": [
    "**4) Realizar una función llamada imc(). Esta función nos proporcionará el estado nutricional de una persona. Esto es; la clasificación de su índice de masa corporal (IMC), según la tabla proporcionada. La función recibirá el peso (en kilos) y la talla de una persona (en metros con dos decimales), datos a partir de los cuales se puede calcular el IMC cómo:**\n",
    "\n",
    "IMC = peso / (altura * altura)\n",
    "\n",
    "Clasificación: IMC (Kg/m^2)\n",
    "* Bajo peso:  < 18.50\n",
    "* Normal:      [18.50, 25.00)\n",
    "* Sobrepeso: >= 25.00\n",
    "* Obesidad: >= 30.00"
   ]
  },
  {
   "cell_type": "code",
   "execution_count": 13,
   "metadata": {},
   "outputs": [
    {
     "name": "stdout",
     "output_type": "stream",
     "text": [
      "Estos son los datos que has introducido: 57.0, 1.7.\n",
      "16.76\n",
      "Bajo peso\n"
     ]
    }
   ],
   "source": [
    "# La función que solicita pesoy altura, y después, calcula el IMC de una persona:\n",
    "def imc():\n",
    "    peso = float(input(\"Introduce tu peso(kg): \"))\n",
    "    altura_raw = float(input(\"Introduce tu altura(m): \")) # EL usuario puede introducir un número con muchos decimales\n",
    "    altura = round(altura_raw, 2) # Aquí recalculamos la altura a solo dos decimales\n",
    "\n",
    "    # Cálculo del IMC\n",
    "    result = peso / (altura * 2)\n",
    "    print(\"El resultado para el cálculo del IMC es:\", result)\n",
    "    \n",
    "    if result < 18.50:\n",
    "        print(\"Bajo peso\")\n",
    "    elif result >= 18.50 and result < 25.00:\n",
    "        print(\"Normal\")\n",
    "    elif result >= 25.00:\n",
    "        print(\"Sobrepeso\")\n",
    "    elif result >= 30.00:\n",
    "        print(\"Obesidad\")\n",
    "    else:\n",
    "        (\"Parece que algo ha ido mal.\")\n",
    "# imc()\n",
    "\n",
    "\n",
    "# Para dinamizarlo y especificar un poco las funciones podemos crear primero una función que solicite los datos al usuario\n",
    "def user_data():\n",
    "    peso = float(input(\"Introduce tu peso en kg:\"))\n",
    "    altura_raw = float(input(\"Introduce tu altura en metros:\"))\n",
    "\n",
    "    # Redondeamos la altura a dos decimales\n",
    "    altura = round(altura_raw, 2)\n",
    "\n",
    "    return peso, altura\n",
    "\n",
    "user_weight, user_height = user_data()\n",
    "print(\"Estos son los datos que has introducido: {}, {}.\".format(user_weight, user_height))\n",
    "\n",
    "# Después, creamos la función imc2() que admite dos parámetros para hacer el cálculo del índice:\n",
    "def imc2(weight, height):\n",
    "    result = round(weight / ( height * 2), 2)\n",
    "    print(result)\n",
    "\n",
    "    if result < 18.50:\n",
    "        print(\"Bajo peso\")\n",
    "    elif result >= 18.50 and result < 25.00:\n",
    "        print(\"Normal\")\n",
    "    elif result >= 25.00:\n",
    "        print(\"Sobrepeso\")\n",
    "    elif result >= 30.00:\n",
    "        print(\"Obesidad\")\n",
    "    else:\n",
    "        (\"Parece que algo ha ido mal.\")\n",
    "\n",
    "# Llamada a la función pasando los datos de usuario como argumentos.\n",
    "imc2(user_weight, user_height)\n"
   ]
  },
  {
   "cell_type": "markdown",
   "metadata": {},
   "source": [
    "**5) ¿Recuerdas este programa de la unidad de control de flujo?**\n",
    "\n",
    "Realiza un programa que realice las siguientes tareas:\n",
    "\n",
    "* Paso 1) solicite al usuario una contraseña y la guarde en una variable\n",
    "* Paso 2) pida al usuario introducir la contraseña para loguearse\n",
    "    * si la contraseña es correcta mostramos \"Login correcto\"\n",
    "    * si la contraseña no es correcta se le tendrá que mostrar un mensaje de \"Login fallido. Intento 1\", donde 1 será una variable contador que irá incrementandose hasta llegar a 5. En ese punto reiniciamos el programa y volveremos al Paso 1\n",
    "\n",
    "__Reestructura el ejercicio dividiéndolo al máximo en funciones.__"
   ]
  },
  {
   "cell_type": "code",
   "execution_count": 10,
   "metadata": {},
   "outputs": [
    {
     "name": "stdout",
     "output_type": "stream",
     "text": [
      "Esta es la contraseña guardada por el usuario: a\n",
      "A continuación, introduce de nuevo tu contraseña para hacer login: \n",
      "Login incorrecto. Intento: 1\n",
      "Login incorrecto. Intento: 2\n",
      "Login incorrecto. Intento: 3\n",
      "Login incorrecto. Intento: 4\n",
      "Login incorrecto. Intento: 5\n",
      "Has superado el numero de intentos. EL login se reiniciará\n",
      "Login incorrecto. Intento: 1\n",
      "Login incorrecto. Intento: 2\n",
      "Login incorrecto. Intento: 3\n",
      "Login correcto. Puedes entrar!\n"
     ]
    }
   ],
   "source": [
    "# Solicitamos contraseña a usuario\n",
    "def asking_for_password():\n",
    "    password = input(\"Elige tu contraseña:\")\n",
    "    return password\n",
    "\n",
    "user_password = asking_for_password() # Guardamos la contraseña del usuario en su respectiva variable\n",
    "print(\"Esta es la contraseña guardada por el usuario:\", user_password)\n",
    "\n",
    "# Creamos una función de login que chequee si la contraseña del usuario es la misma introducida nuevamente.\n",
    "def login():\n",
    "    # La variable que hemos introducido anteriormente y que queremos chequear\n",
    "    password = user_password\n",
    "    matched_password = input(\"Introduce la contraseña para hacer login:\")\n",
    "\n",
    "    if password != matched_password:\n",
    "        # Variable contador de intentos al login\n",
    "        intento = 1\n",
    "        print(\"Login incorrecto. Intento:\", intento)\n",
    "\n",
    "        # Si el usuario no introduce bien su contraseña, tiene 5 intentos --- bucle while:\n",
    "        while intento < 5 and matched_password != password:\n",
    "            matched_password = input(\"Introduce la contraseña para hacer login:\")\n",
    "\n",
    "            if password == matched_password:\n",
    "                print(\"Login correcto. Puedes entrar!\")\n",
    "                break # Salimos del bucle y entramos en el \"else\" de nuestra condición que verifica que las contraseñas son las mismas.\n",
    "            else:\n",
    "                intento += 1\n",
    "                print(\"Login incorrecto. Intento:\", intento)\n",
    "\n",
    "        # Verificar si se han agotado los intentos y reiniciar la función login()\n",
    "        if intento == 5 and password != matched_password:\n",
    "            print(\"Has superado el numero de intentos. EL login se reiniciará\")\n",
    "            login()\n",
    "\n",
    "    else:\n",
    "        print(\"Login correcto. Puedes entrar!\")\n",
    "\n",
    "print(\"A continuación, introduce de nuevo tu contraseña para hacer login: \")\n",
    "login()\n",
    "\n"
   ]
  }
 ],
 "metadata": {
  "anaconda-cloud": {},
  "kernelspec": {
   "display_name": "Python 3",
   "language": "python",
   "name": "python3"
  },
  "language_info": {
   "codemirror_mode": {
    "name": "ipython",
    "version": 3
   },
   "file_extension": ".py",
   "mimetype": "text/x-python",
   "name": "python",
   "nbconvert_exporter": "python",
   "pygments_lexer": "ipython3",
   "version": "3.11.5"
  },
  "vscode": {
   "interpreter": {
    "hash": "aee8b7b246df8f9039afb4144a1f6fd8d2ca17a180786b69acc140d282b71a49"
   }
  }
 },
 "nbformat": 4,
 "nbformat_minor": 1
}
