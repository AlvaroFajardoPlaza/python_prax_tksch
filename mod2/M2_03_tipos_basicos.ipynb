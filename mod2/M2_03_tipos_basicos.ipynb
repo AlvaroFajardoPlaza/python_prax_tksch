{
 "cells": [
  {
   "cell_type": "markdown",
   "metadata": {},
   "source": [
    "# Ejercicios Modulo 2. Entrada y salida de datos\n",
    "\n",
    "Consideraciones a tener en cuenta: \n",
    "\n",
    "* Guardar este documento con el siguiente formato para su entrega: __M2_03_nombre_apellido1_apellido2__\n",
    "* Realizar los ejercicios con las herramientas vistas en las sesiones. Aún no hemos llegado a condicionales ni bucles\n",
    "* Comentar el código\n",
    "* Utilizar nombres de variables apropiados, si vais a guardar una nota, llamar a esa variable nota, no n o x"
   ]
  },
  {
   "cell_type": "markdown",
   "metadata": {},
   "source": [
    "## Ejercicios de entrada y salida"
   ]
  },
  {
   "cell_type": "markdown",
   "metadata": {},
   "source": [
    "**1) Utiliza el método input() para realizar las siguientes tareas:**\n",
    "\n",
    "* Pide un número por teclado, muestra el resultado y su tipo (para conocer en que tipo de dato captura la información input())\n",
    "* Pide un número por teclado y asegurate de que capturemos la información en formato int\n",
    "* Pide un número por teclado y asegurate de que capturemos la información en formato float\n",
    "\n",
    "__Comprobar con type que los datos son del tipo correcto__"
   ]
  },
  {
   "cell_type": "code",
   "execution_count": 3,
   "metadata": {},
   "outputs": [
    {
     "name": "stdout",
     "output_type": "stream",
     "text": [
      "7\n",
      "<class 'str'> 7\n",
      "7\n",
      "<class 'int'> 7\n",
      "7.5\n",
      "<class 'float'> 7.5\n"
     ]
    }
   ],
   "source": [
    "numero1 = input()\n",
    "print(type(numero1), numero1)\n",
    "\n",
    "numero2 = int(input())\n",
    "print(type(numero2), numero2)\n",
    "\n",
    "numero3 = float(input())\n",
    "print(type(numero3), numero3)"
   ]
  },
  {
   "cell_type": "markdown",
   "metadata": {},
   "source": [
    "**2) Vamos a formatear números:**\n",
    "\n",
    "* Pide un numero entero por teclado\n",
    "* Muéstralo con el formato de 5 dígitos rellenos con 0s por delante\n",
    "* Pide un número flotante por teclado\n",
    "* Muéstralo con 5 dígitos para la parte entera y 3 dígitos para la parte decimal"
   ]
  },
  {
   "cell_type": "code",
   "execution_count": 6,
   "metadata": {},
   "outputs": [
    {
     "name": "stdout",
     "output_type": "stream",
     "text": [
      "5\n",
      "00005\n",
      "5.5\n",
      "00005.500\n"
     ]
    }
   ],
   "source": [
    "#Introducimos un número entero\n",
    "num_entero = int(input())\n",
    "print(\"{:05d}\".format(num_entero))\n",
    "\n",
    "#Introducimos un float. Queremos 5 dígitos en la parte delantera y tres decimales ---> 5 + 3 + 1(punto)\n",
    "num_float = float(input())\n",
    "print(\"{:09.3f}\".format(num_float))\n"
   ]
  },
  {
   "cell_type": "markdown",
   "metadata": {},
   "source": [
    "**3) Vamos a ponernos creativos. ¿Cuántas formas tienes de mostrar esta información?**<bR>\n",
    "<code>La altura es de 1,80 metros y el peso es de 80,135 KG</code>\n",
    "    \n",
    "Siendo la altura y el peso dos variables que se recojan con 2 inputs\n",
    "    \n",
    "__Pista: format() se puede usar de varias formas__"
   ]
  },
  {
   "cell_type": "code",
   "execution_count": 7,
   "metadata": {},
   "outputs": [
    {
     "name": "stdout",
     "output_type": "stream",
     "text": [
      "1.7\n",
      "55.5\n",
      "La altura es de 1.7 metros y el peso es de 55.5 KG\n",
      "La altura es de 1.7 y el peso es de 55.5 KG\n",
      "La altura es de 1.7 y el peso es de 55.5 KG\n"
     ]
    }
   ],
   "source": [
    "altura = float(input())\n",
    "peso = float(input())\n",
    "\n",
    "# Según la forma de expresar el método format en Python2\n",
    "print(f\"La altura es de {altura} metros y el peso es de {peso} KG\")\n",
    "\n",
    "# Atendiendo a las especificaciones para el método format en Python3\n",
    "print(\"La altura es de {} y el peso es de {} KG\".format(altura, peso))\n",
    "\n",
    "#Si quisiéramos emplear índices para indicar el valor de las variables dentro del output...\n",
    "print(\"La altura es de {1} y el peso es de {0} KG\".format(peso, altura))"
   ]
  }
 ],
 "metadata": {
  "anaconda-cloud": {},
  "kernelspec": {
   "display_name": "Python 3 (ipykernel)",
   "language": "python",
   "name": "python3"
  },
  "language_info": {
   "codemirror_mode": {
    "name": "ipython",
    "version": 3
   },
   "file_extension": ".py",
   "mimetype": "text/x-python",
   "name": "python",
   "nbconvert_exporter": "python",
   "pygments_lexer": "ipython3",
   "version": "3.11.5"
  },
  "vscode": {
   "interpreter": {
    "hash": "aee8b7b246df8f9039afb4144a1f6fd8d2ca17a180786b69acc140d282b71a49"
   }
  }
 },
 "nbformat": 4,
 "nbformat_minor": 1
}
