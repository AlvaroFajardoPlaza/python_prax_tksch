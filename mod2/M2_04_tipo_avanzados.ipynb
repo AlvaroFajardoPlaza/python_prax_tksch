{
 "cells": [
  {
   "cell_type": "markdown",
   "metadata": {},
   "source": [
    "# Ejercicios Modulo 2. Tipos avanzados\n",
    "\n",
    "Consideraciones a tener en cuenta: \n",
    "\n",
    "* Guardar este documento con el siguiente formato para su entrega: __M2_04_nombre_apellido1_apellido2__\n",
    "* Realizar los ejercicios con las herramientas vistas en las sesiones. Aún no hemos llegado a condicionales ni bucles\n",
    "* Comentar el código\n",
    "* Utilizar nombres de variables apropiados, si vais a guardar una nota, llamar a esa variable nota, no n o x"
   ]
  },
  {
   "cell_type": "markdown",
   "metadata": {},
   "source": [
    "## Ejercicios de tipos avanzados"
   ]
  },
  {
   "cell_type": "markdown",
   "metadata": {},
   "source": [
    "**1) Trabajemos con listas y tuplas**\n",
    "* Crea una lista y una tupla que contenga strings (al menos 3 elementos). Tematica libre, sobre lo que quieras, vehiculos, comida, música, etc.\n",
    "* Muestra la lista y la tupla\n",
    "* Muestra el 2º elemento de la lista y el penúltimo de la tupla\n",
    "* Modifica (si se puede) algún elemento de la lista y de la tupla. Y mostrar el resultado\n",
    "* Muestra el tamaño de la lista y de la tupla\n",
    "* Realiza una búsqueda de un elemento dentro de la lista y de la tupla. Mostrar si devuelve True o False\n",
    "* Añade (si se puede) algún elemento a la lista y a la tupla. Mostrar de nuevo la lista y la tupla para verificar si se ha realizado correctamente la acción.\n",
    "* Borra o elimina (si se puede) el contenido de la lista y de la tupla. Mosstrar de nuevo la lista y la tupla para verificar si se ha realizado correctamente la acción\n",
    "\n"
   ]
  },
  {
   "cell_type": "code",
   "execution_count": 4,
   "metadata": {},
   "outputs": [
    {
     "name": "stdout",
     "output_type": "stream",
     "text": [
      "<class 'list'> <class 'tuple'>\n",
      "['After Hours', 'Chromatica', 'Reinassance', 'DawnFm', '31', 'Love Goes', '25', 'Thank You Next']\n",
      "('Spiderman', 'Elemental', 'Memoirs of a Geisha', 'The Kid and The Beast', 'Hercules', 'A Star Is Born')\n",
      "['After Hours', 'Chromatica', 'Reinassance', 'DawnFm', '31', 'The Thrill of It All', '25', 'Thank You Next', 'Mama Saturn']\n",
      "9 6\n",
      "['After Hours', 'Chromatica', 'Reinassance', 'DawnFm', '31', 'The Thrill of It All', '25', 'Thank You Next', 'Mama Saturn'] ('Spiderman', 'Elemental', 'Memoirs of a Geisha', 'The Kid and The Beast', 'Hercules', 'A Star Is Born')\n",
      "['After Hours', 'Chromatica', 'DawnFm', '31', 'The Thrill of It All', '25', 'Mama Saturn']\n"
     ]
    }
   ],
   "source": [
    "#Creación de una lista y una tupla\n",
    "albums_fav = ['After Hours', 'Chromatica', 'Reinassance', 'DawnFm', '31', 'Love Goes', '25', 'Thank You Next']\n",
    "movies_fav = ('Spiderman', 'Elemental', 'Memoirs of a Geisha', 'The Kid and The Beast', 'Hercules', 'A Star Is Born')\n",
    "print(type(albums_fav), type(movies_fav))\n",
    "print(albums_fav)\n",
    "print(movies_fav)\n",
    "\n",
    "# Modificamos e incluimos un elemento más en nuestra lista, pero no podemos mutar nuestra tupla \"movies_fav\"\n",
    "albums_fav[5] = 'The Thrill of It All'\n",
    "albums_fav.append('Mama Saturn')\n",
    "print(albums_fav)\n",
    "\n",
    "# Mostramos el tamaño de nuestra lista y nuestra tupla y sus contenidos respectivamente\n",
    "print(len(albums_fav), len(movies_fav))\n",
    "print(albums_fav, movies_fav)\n",
    "\n",
    "# Eliminamos un elemento de nuestra lista empleando \"remove\" y \"del\", ya que la tupla es inmutable\n",
    "albums_fav.remove('Reinassance')\n",
    "del albums_fav[6] \n",
    "print(albums_fav)"
   ]
  },
  {
   "cell_type": "markdown",
   "metadata": {},
   "source": [
    "**2) Trabajemos con sets y diccionarios**\n",
    "* Crea una set y un diccionario que contengan strings (al menos 3 elementos en el caso del set y 3 conjuntos de clave:valor en el caso del diccionario). Tematica libre, sobre lo que quieras, vehiculos, comida, música, etc.\n",
    "* Muestra el set y el diccionario\n",
    "* Muestra (si se puede) el 2º elemento del set y el valor del primer clave-valor del diccionario\n",
    "* Modifica (si se puede) algún elemento del set o del diccionario. Y mostrar el resultado\n",
    "* Muestra el tamaño del set y del diccionario\n",
    "* Realiza una búsqueda de un elemento dentro del set y dentro del diccionario. Mostrar si devuelve True o False\n",
    "* Añade (si se puede) algún elemento al set y algun clave-valor al diccionario. Mostrar de nuevo el set y el diccionario para verificar si se ha realizado correctamente la acción.\n",
    "* Borra o elimina (si se puede) el contenido del set y del diccionario. Mosstrar de nuevo el set y el diccionario para verificar si se ha realizado correctamente la acción\n",
    "\n"
   ]
  },
  {
   "cell_type": "code",
   "execution_count": 1,
   "metadata": {},
   "outputs": [
    {
     "name": "stdout",
     "output_type": "stream",
     "text": [
      "<class 'set'> {'Albacete', 'Nebraska', 'Diseñador gráfico y desarrollador', 'Géminis', 'Álvaro'}\n",
      "<class 'dict'> {'name': 'Álvaro', 'age': 25, 'city': 'Albacete', 'pet': 'Nebraska', 'horoscope': 'Géminis', 'last_job': 'Diseñador gráfico y desarrollador'}\n",
      "True\n",
      "Álvaro\n",
      "Nebraska\n",
      "{'name': 'Álvaro', 'age': 25, 'city': 'Madrid', 'pet': 'Nebraska', 'horoscope': 'Géminis', 'last_job': 'Diseñador gráfico y desarrollador'}\n"
     ]
    }
   ],
   "source": [
    "my_set = { \"Álvaro\", \"Nebraska\", \"Albacete\", \"Géminis\", \"Diseñador gráfico y desarrollador\"} # Set\n",
    "personal_info = {\n",
    "    \"name\": \"Álvaro\",\n",
    "    \"age\": 25,\n",
    "    \"city\": \"Albacete\",\n",
    "    \"pet\": \"Nebraska\",\n",
    "    \"horoscope\": \"Géminis\",\n",
    "    \"last_job\": \"Diseñador gráfico y desarrollador\"\n",
    "}\n",
    "\n",
    "print(type(my_set), my_set)\n",
    "print(type(personal_info), personal_info)\n",
    "\n",
    "# Mostramos un elemento del set?\n",
    "print(\"Nebraska\" in my_set) \n",
    "print(personal_info[\"name\"])\n",
    "print(personal_info.get(\"pet\"))\n",
    "\n",
    "#Los elementos de un set son inmutables, pero podemos modificar el valor de alguna clave del diccionario\n",
    "personal_info[\"city\"] = \"Madrid\"\n",
    "print(personal_info)"
   ]
  },
  {
   "cell_type": "markdown",
   "metadata": {},
   "source": [
    "**3) Realizar un programa que pida al usuario 3 números que pueden ser flotantes (no es necesario realizar bucles aún, podemos repetir el código), estos números se deberán introducir en una lista. Cuando se haya finalizado la introducción de los datos, se mostrará el sumatorio de toda la lista. Guardar el sumatorio en una variable que se llame \"sumatorio\"**\n",
    "\n",
    "*Ayuda: Existe una función llamada sum(lista) ¡Pruébalo!*"
   ]
  },
  {
   "cell_type": "code",
   "execution_count": 5,
   "metadata": {},
   "outputs": [
    {
     "name": "stdout",
     "output_type": "stream",
     "text": [
      "Introduce el primer valor: 2\n",
      "Introduce el segundo valor: 5\n",
      "Introduce el tercer valor: 8\n",
      "Los valores que has introducido son:  [2.0, 5.0, 8.0]\n",
      "El sumatorio total es:  15.0\n",
      "El sumatorio2 total también es:  15.0\n"
     ]
    }
   ],
   "source": [
    "array_of_values = []\n",
    "\n",
    "value1 = float(input(\"Introduce el primer valor: \"))\n",
    "array_of_values.append(value1)\n",
    "\n",
    "value2 = float(input(\"Introduce el segundo valor: \"))\n",
    "array_of_values.append(value2)\n",
    "\n",
    "value3 = float(input(\"Introduce el tercer valor: \"))\n",
    "array_of_values.append(value3)\n",
    "\n",
    "# Método 1:\n",
    "print(\"Los valores que has introducido son: \", array_of_values)\n",
    "\n",
    "sumatorio = value1 + value2 + value3\n",
    "print(\"El sumatorio total es: \", sumatorio)\n",
    "\n",
    "# Método 2 - empleando sum()\n",
    "sumatorio2 = sum(array_of_values)\n",
    "print(\"El sumatorio2 total también es: \", sumatorio2)\n"
   ]
  },
  {
   "cell_type": "markdown",
   "metadata": {},
   "source": [
    "**4) Sobre el ejercicio anterior, queremos mostrar la media aritmética de los elementos de esa lista. Indicar la instrucción necesaria para obtenerla.**\n",
    "\n",
    "*En este caso sabemos que el número de elementos que ha introducido el usuario es 3, pero en otra ocasión podría ser diferente, por lo tanto, no hagáis referencia al número 3 en ningún sitio*"
   ]
  },
  {
   "cell_type": "code",
   "execution_count": 6,
   "metadata": {},
   "outputs": [
    {
     "name": "stdout",
     "output_type": "stream",
     "text": [
      "Introduce el primer valor: 4.75\n",
      "Introduce el segundo valor: 5.963\n",
      "El numero total de elementos que hay en el array es:  2\n",
      "La media es:  5.3565000000000005\n"
     ]
    }
   ],
   "source": [
    "array_of_values = []\n",
    "\n",
    "value1 = float(input(\"Introduce el primer valor: \"))\n",
    "array_of_values.append(value1)\n",
    "\n",
    "value2 = float(input(\"Introduce el segundo valor: \"))\n",
    "array_of_values.append(value2)\n",
    "\n",
    "# Guardamos en la variable sumatorio, la suma total de los elementos de nuestro array\n",
    "sumatorio = sum(array_of_values)\n",
    "\n",
    "# Calculamos con el método len() el número de elementos que componen nuestro array\n",
    "total_values_in_array = len(array_of_values)\n",
    "print(\"El numero total de elementos que hay en el array es: \", total_values_in_array)\n",
    "\n",
    "# Llevamos a cabo nuestra media aritmética\n",
    "average = sumatorio / total_values_in_array\n",
    "print(\"La media es: \", average)"
   ]
  },
  {
   "cell_type": "markdown",
   "metadata": {},
   "source": [
    "**5) Dada la siguiente matriz de notas (una matriz es una lista de listas anidadas) se observa que cada fila es un listado de notas de un alumno, donde en la última posición de cada lista se encuentra el sumatorio de todas las notas anteriores de esa lista. Pero apreciamos que hay varios errores en los sumatorios de varios alumnos, utilizar la técnica de slicing para acceder a estas posiciones y modificar los valores erroneos de la forma más automatizada posible.**\n",
    "\n",
    "* No vale poner directamente los valores:\n",
    "```python\n",
    "notas[1][3] = 60\n",
    "notas[3][3] = 120\n",
    "```\n",
    "* Hay que buscar una forma automatizada de acceder y modificar esos valores"
   ]
  },
  {
   "cell_type": "code",
   "execution_count": 14,
   "metadata": {},
   "outputs": [
    {
     "name": "stdout",
     "output_type": "stream",
     "text": [
      "Estas son las notas del alumno1:  [10, 10, 10, 30]\n",
      "Estas son las notas del alumno1:  [20, 20, 20, 60]\n",
      "Estas son las notas del alumno:  [40, 40, 40, 120]\n",
      "[10, 10, 10, 30]\n",
      "[20, 20, 20, 60]\n",
      "[30, 30, 30, 90]\n",
      "[40, 40, 40, 120]\n"
     ]
    }
   ],
   "source": [
    "notas_alumnos = [ \n",
    "    [10, 10, 10, 30],\n",
    "    [20, 20, 20, 70],\n",
    "    [30, 30, 30, 90],\n",
    "    [40, 40, 40, 130]\n",
    "]\n",
    "\n",
    "# Sin emplear el bucle for, podemos guardar a cada alumno en una nueva variable y comprobar el sumatorio total\n",
    "alumno1 = notas_alumnos[0] \n",
    "# print(\"Este es el alumno1: \", alumno1)\n",
    "nota_extraida = alumno1.pop()# De esta manera podemos eliminar el último valor, aunque no comprobamos si está bien o mal\n",
    "sumatorio_alumno1 = sum(alumno1) # Sumamos las notas y comparamos\n",
    "alumno1.append(sumatorio_alumno1)\n",
    "print(\"Estas son las notas del alumno1: \", alumno1)\n",
    "\n",
    "# Probamos con el alumno2 que si muestra un error en su nota final\n",
    "alumno2 = notas_alumnos[1] \n",
    "nota_extraida = alumno2.pop()# De esta manera podemos eliminar el último valor, aunque no comprobamos si está bien o mal\n",
    "sumatorio_alumno2 = sum(alumno2) # Sumamos las notas y comparamos\n",
    "alumno2.append(sumatorio_alumno2)\n",
    "print(\"Estas son las notas del alumno1: \", alumno2)\n",
    "\n",
    "\n",
    "\"\"\"\n",
    "La lógica que aplicamos arriba es demasiado enrevesada y poco eficiente.\n",
    "Es mejor realizar un sumatorio de las notas del alumno sin contar la última posición y entonces hacer la comprobación\n",
    "\"\"\"\n",
    "\n",
    "for alumno in notas_alumnos:\n",
    "    sumatorio = sum(alumno[:-1]) # Sumatorio de las notas sin contar la última posición\n",
    "    if sumatorio != alumno[-1]: # Comprobación\n",
    "        alumno[-1] = sumatorio\n",
    "        print(\"Estas son las notas del alumno: \", alumno)\n",
    "\n",
    "# Mostramos la lista de notas finales corregidas\n",
    "for alumno in notas_alumnos:\n",
    "    print(alumno)"
   ]
  },
  {
   "cell_type": "markdown",
   "metadata": {},
   "source": [
    "**6) Supongamos que obtenemos una cadena de texto corrupta, esta al revés. Esta cadena contiene el nombre y el año de nacimiento de una persona. Formatear dicha cadena para obtener el siguiente formato:**\n",
    "\n",
    "* Empleado ***Nombre*** ***Apellido*** nacido en el año ***Año***\n",
    "\n",
    "*Pista: Para invertir el orden una cadena usando técnicas de slicing se puede utilizar un tercer índice -1: cadena[::-1]*\n"
   ]
  },
  {
   "cell_type": "code",
   "execution_count": 2,
   "metadata": {},
   "outputs": [],
   "source": [
    "cadena = \"zereP solraC,5891\"\n",
    "cadena_invertida = cadena[::-1]\n",
    "print(cadena_invertida)\n",
    "\n",
    "# de la cadena queremos extraer el año y el nombre.\n",
    "year = cadena_invertida[0:4]\n",
    "name = cadena_invertida[5:100]\n",
    "print(\"Hemos conseguido el año? Y el nombre? \", year, name)\n",
    "print(\"Empleado {} nacido en el año {}.\".format(name, year))\n"
   ]
  },
  {
   "cell_type": "markdown",
   "metadata": {},
   "source": [
    "**7) Practiquemos con conjuntos:**\n",
    "* Crea un conjunto llamado mamíferos que tenga los elementos Gato, León, Caballo, Ballena y Tortuga\n",
    "* Crea un conjunto llamado peces que tenga los elementos Ballena y Sardina\n",
    "* Borra la Tortuga del conjunto mamiíferos\n",
    "* Añade el Pez Payaso al conjunto peces\n",
    "* Imprime los conjuntos por pantalla\n",
    "* Imprime por pantalla los elementos que se encuentren en ambos conjuntos, es decir, que sean mamíferos y peces"
   ]
  },
  {
   "cell_type": "code",
   "execution_count": 10,
   "metadata": {},
   "outputs": [
    {
     "name": "stdout",
     "output_type": "stream",
     "text": [
      "Nuestros dos sets:  {'Ballena', 'León', 'Gato', 'Caballo'} {'Tortuga', 'Pez Payaso', 'Ballena'}\n",
      "Los elementos comunes en ambos sets:  {'Ballena'}\n"
     ]
    }
   ],
   "source": [
    "# Creamos los dos sets/conjuntos\n",
    "mammals = {\"Gato\", \"León\", \"Caballo\", \"Ballena\", \"Tortuga\"}\n",
    "fishes = {\"Ballena\", \"Tortuga\"}\n",
    "\n",
    "# Borramos la tortuga y añadimos el pez payaso\n",
    "mammals.remove(\"Tortuga\")\n",
    "fishes.add(\"Pez Payaso\")\n",
    "print(\"Nuestros dos sets: \", mammals, fishes)\n",
    "\n",
    "# Imprimimos por pantalla los elementos comunes en ambos sets\n",
    "print(\"Los elementos comunes en ambos sets: \", mammals & fishes)\n"
   ]
  },
  {
   "cell_type": "markdown",
   "metadata": {},
   "source": [
    "**8) Practiquemos con diccionarios. Tenemos un diccionario que contiene una serie de productos. Realicemos las tres siguientes tareas:**\n",
    "* Ver productos\n",
    "* Subir el precio a todos los productos\n",
    "* Volver a ver todos los precios (para comprobar que el precio ha subido)\n",
    "\n",
    "Al inicio del programa, se mostrarán todos los productos, tienen que aparecer ordenados con el siguiente formato: <br><code>1 - Arduino - 30€</code><br>\n",
    "Posteriormente, a todos los productos se aplicará una subida del 50% a todos los precios de productos.<br>\n",
    "Y finalmente volveremos a mostrar todos los productos para comprobar la subida de precios."
   ]
  },
  {
   "cell_type": "code",
   "execution_count": 11,
   "metadata": {
    "scrolled": true
   },
   "outputs": [
    {
     "name": "stdout",
     "output_type": "stream",
     "text": [
      "id :  [1, 2, 3]\n",
      "nombre :  ['Arduino', 'RPi', 'Print 3D']\n",
      "precio :  [30, 70, 300]\n",
      "\n",
      "Estos son los datos del primer producto:\n",
      "1 - Arduino - 30€\n",
      "Estos son los datos del segundo producto:\n",
      "2 - RPi - 70€\n",
      "Estos son los datos del tercer producto:\n",
      "3 - Print 3D - 300€\n",
      "\n",
      "Productos con precios actualizados:\n",
      "1 - Arduino - 45.0€\n",
      "2 - RPi - 105.0€\n",
      "3 - Print 3D - 450.0€\n"
     ]
    }
   ],
   "source": [
    "productos = { 'id':[1,2,3], \n",
    "             'nombre':['Arduino', 'RPi', 'Print 3D'], \n",
    "             'precio': [30, 70, 300] \n",
    "            }\n",
    "\n",
    "# Método .items sobre un objeto para la rápida lectura de sus parejas key-values\n",
    "for x, y in productos.items():\n",
    "    print(x,\": \", y)\n",
    "    \n",
    "# Mostrar los datos del primer producto:\n",
    "print('\\nEstos son los datos del primer producto:')\n",
    "print(productos['id'][0], end=' - ')\n",
    "print(productos['nombre'][0], end=' - ')\n",
    "print(productos['precio'][0], end='€')\n",
    "\n",
    "# Mostrar los datos del segundo y tercer producto: solo tenemos que modificar el index al que accedemos\n",
    "print('\\nEstos son los datos del segundo producto:')\n",
    "print(productos['id'][1], end=' - ')\n",
    "print(productos['nombre'][1], end=' - ')\n",
    "print(productos['precio'][1], end='€')\n",
    "\n",
    "print('\\nEstos son los datos del tercer producto:')\n",
    "print(productos['id'][2], end=' - ')\n",
    "print(productos['nombre'][2], end=' - ')\n",
    "print(productos['precio'][2], end='€')\n",
    "\n",
    "# Ahora vamos a subir el precio un 50% en todos los artículos\n",
    "for i in range(len(productos['precio'])):\n",
    "    productos['precio'][i] *= 1.5\n",
    "\n",
    "print(\"\\n\\nProductos con precios actualizados:\")\n",
    "for i in range(len(productos)):\n",
    "    print(\"{} - {} - {}€\".format(productos['id'][i], productos['nombre'][i], productos['precio'][i]))\n"
   ]
  }
 ],
 "metadata": {
  "anaconda-cloud": {},
  "kernelspec": {
   "display_name": "Python 3",
   "language": "python",
   "name": "python3"
  },
  "language_info": {
   "codemirror_mode": {
    "name": "ipython",
    "version": 3
   },
   "file_extension": ".py",
   "mimetype": "text/x-python",
   "name": "python",
   "nbconvert_exporter": "python",
   "pygments_lexer": "ipython3",
   "version": "3.11.5"
  },
  "vscode": {
   "interpreter": {
    "hash": "aee8b7b246df8f9039afb4144a1f6fd8d2ca17a180786b69acc140d282b71a49"
   }
  }
 },
 "nbformat": 4,
 "nbformat_minor": 1
}
