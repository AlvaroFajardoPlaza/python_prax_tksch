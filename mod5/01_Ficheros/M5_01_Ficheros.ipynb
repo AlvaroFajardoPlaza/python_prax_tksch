{
 "cells": [
  {
   "cell_type": "markdown",
   "metadata": {},
   "source": [
    "# Ejercicios Modulo 5. Ficheros (Enunciado)\n",
    "\n",
    "Consideraciones a tener en cuenta: \n",
    "\n",
    "* Guardar este documento con el siguiente formato para su entrega: __M5_01_nombre_apellido1_apellido2__\n",
    "* Realizar los ejercicios con las herramientas vistas en las sesiones. \n",
    "* Comentar el código\n",
    "* Utilizar nombres de variables apropiados, si vais a guardar una nota, llamar a esa variable nota, no n o x"
   ]
  },
  {
   "cell_type": "markdown",
   "metadata": {},
   "source": [
    "**1) En este ejercicio deberás crear un programa que abra y lea un fichero de texto, y nos proporcione la siguiente información:**\n",
    "\n",
    "* Nombre del fichero\n",
    "* Si el fichero esta cerrado o no (True o False)\n",
    "* El modo de apertura del fichero\n",
    "\n",
    "El fichero de texto se denominará **pruebas.txt** y tendrá el siguiente contenido en texto plano (créalo previamente):\n",
    "\n",
    "```\n",
    "Hola que tal estas\n",
    "Esto es una prueba\n",
    "Hoy no llueve\n",
    "Se acerca la navidad\n",
    "Hasta luego y muy buenas\n",
    "```\n",
    "\n",
    "Busca en la documentación que métodos nos proporcionan la información requerida. Por último, lista el contenido del fichero.\n",
    "\n",
    "**Aviso importante**: *Si quieres leer un fichero que no se ha escrito directamente con Python, entonces es posible que encuentres errores de codificación al mostrar algunos caracteres. Asegúrate de indicar la codificación del fichero manualmente durante la apertura como argumento en el **open**, por ejemplo con UTF-8:*\n",
    "\n",
    "```python\n",
    "open(..., encoding=\"utf8\")\n",
    "```"
   ]
  },
  {
   "cell_type": "code",
   "execution_count": 64,
   "metadata": {},
   "outputs": [
    {
     "name": "stdout",
     "output_type": "stream",
     "text": [
      "['pruebas.txt', 'personas.txt', '.ipynb_checkpoints', 'M5_01_Ficheros.ipynb']\n",
      "\n",
      "----- Contenido del fichero -----\n",
      " Hola que tal estas\n",
      "Esto es una prueba\n",
      "Hoy no llueve\n",
      "Se acerca la navidad\n",
      "Hasta luego y muy buenas\n",
      "\n",
      "----- Has cerrado el fichero.\n"
     ]
    }
   ],
   "source": [
    "# Completa el ejercicio aquí\n",
    "from os import listdir\n",
    "\n",
    "try:\n",
    "    # Para mostrar el título de los archivos en esta misma carpeta, empleamos el método listdir del módulo os de python\n",
    "    print(listdir(\"./\"))\n",
    "\n",
    "    mi_fichero1 = open(\"pruebas.txt\", \"r\", encoding=\"utf8\")\n",
    "    contenido_mi_fichero1 = mi_fichero1.read()\n",
    "\n",
    "    # Mostramos el contenido del fichero\n",
    "    print(\"\\n----- Contenido del fichero -----\\n\", contenido_mi_fichero1)\n",
    "\n",
    "    # Averiguamos el modo de apertura del fichero\n",
    "    \n",
    "    \n",
    "    # Importante cerrar nuestro fichero después de abrirlo\n",
    "    mi_fichero1.close()\n",
    "\n",
    "    if mi_fichero1.closed:\n",
    "        print(\"\\n----- Has cerrado el fichero.\")\n",
    "    else:\n",
    "        raise EnvironmentError() # También podría ser manejado como IOError\n",
    "\n",
    "except EnvironmentError as e:\n",
    "    print(\"Cuidado. Error en el fichero:\", type(e).__name__)\n",
    "except Exception as e:\n",
    "    print(\"Error desconocido:\", type(e).__name__)"
   ]
  },
  {
   "cell_type": "markdown",
   "metadata": {},
   "source": [
    "**2) Sobre el fichero anterior, obtén la siguiente información:**\n",
    "\n",
    "* Lectura de una línea del fichero\n",
    "* Lectura del fichero línea a línea"
   ]
  },
  {
   "cell_type": "code",
   "execution_count": 72,
   "metadata": {},
   "outputs": [
    {
     "name": "stdout",
     "output_type": "stream",
     "text": [
      "----- Mostrando solo la primera línea...\n",
      "Hola que tal estas\n",
      "\n",
      "\n",
      "----- Contenido de mi fichero de texto línea a línea -----\n",
      "Hola que tal estas\n",
      "Esto es una prueba\n",
      "Hoy no llueve\n",
      "Se acerca la navidad\n",
      "Hasta luego y muy buenas"
     ]
    }
   ],
   "source": [
    "# Completa el ejercicio aquí\n",
    "\n",
    "try:\n",
    "    # Vamos ahora a mostrar solo la primera línea\n",
    "    my_file = open(\"pruebas.txt\", \"r\", encoding=\"utf8\")\n",
    "    first_line = my_file.readline()\n",
    "    print(\"----- Mostrando solo la primera línea...\")\n",
    "    print(first_line)\n",
    "    my_file.close()\n",
    "\n",
    "    # Ahora abrimps el fichero y lo leemos linea a linea de forma secuencial\n",
    "    with open(\"pruebas.txt\", \"r\", encoding=\"utf8\") as my_file:\n",
    "        print(\"\\n----- Contenido de mi fichero de texto línea a línea -----\")\n",
    "        for line in my_file:\n",
    "            print(line, end=\"\")\n",
    "\n",
    "except FileNotFoundError as e:\n",
    "    print(\"No hemos encontrado el fichero.\")\n",
    "except ValueError as e:\n",
    "    print(\"Error en el valor introducido:\", type(e).__name__)\n",
    "except Exception as e:\n",
    "    print(\"Error desconocido\", type(e).__name__)"
   ]
  },
  {
   "cell_type": "markdown",
   "metadata": {},
   "source": [
    "**3) Sobre el fichero anterior, realiza la siguiente operación:**\n",
    "\n",
    "* Abrir el fichero en modo escritura (concatenando el contenido, sin sobrescribirlo) y escribir una nueva línea de texto\n",
    "\n",
    "Comprueba que este funcionando correctamente comprobando el fichero (tendrás que cerrarlo y abrirlo para poder visualizar los cambios)."
   ]
  },
  {
   "cell_type": "code",
   "execution_count": 74,
   "metadata": {},
   "outputs": [
    {
     "name": "stdout",
     "output_type": "stream",
     "text": [
      "Hola que tal estas\n",
      "\n",
      "Esto es una prueba\n",
      "\n",
      "Hoy no llueve\n",
      "\n",
      "Se acerca la navidad\n",
      "\n",
      "Hasta luego y muy buenas\n",
      "\n",
      "Nueva línea de texto dentro de mi fichero de prueba.\n",
      "\n",
      "---\n",
      "El fichero se ha cerrado\n"
     ]
    }
   ],
   "source": [
    "# Como queremos añadir una línea al final del fichero empleamos \"a\":\n",
    "try:\n",
    "    with open(\"pruebas.txt\", \"a\", encoding=\"utf8\") as test_file:\n",
    "        new_line = \"\\nNueva línea de texto dentro de mi fichero de prueba.\"\n",
    "        test_file.write(new_line)\n",
    "    \n",
    "    # Abrimos el fichero para visualizar los cambios realizados\n",
    "    with open(\"pruebas.txt\", \"r+\", encoding=\"utf8\") as test_file:   \n",
    "        for line in test_file:\n",
    "            print(line)\n",
    "\n",
    "    # Aún usando with open(), comprobamos que el fichero se ha cerrado correctamente...\n",
    "    if test_file.closed:\n",
    "        print(\"\\n---\\nEl fichero se ha cerrado\")\n",
    "            \n",
    "except Exception as e:\n",
    "    print(\"Error desconocido:\", type(e).__name__)\n"
   ]
  },
  {
   "cell_type": "markdown",
   "metadata": {},
   "source": [
    "**4) Sobre el fichero anterior, realiza la siguiente operación:**\n",
    "\n",
    "* Abrir el fichero en modo escritura (sobrescribiendo el contenido) y escribir una nueva línea de texto\n",
    "\n",
    "Comprueba que este funcionando correctamente comprobando el fichero (tendrás que cerrarlo y abrirlo para poder visualizar los cambios)."
   ]
  },
  {
   "cell_type": "code",
   "execution_count": 76,
   "metadata": {},
   "outputs": [
    {
     "name": "stdout",
     "output_type": "stream",
     "text": [
      "Nueva línea de texto dentro de mi fichero de prueba.\n",
      "\n",
      "---\n",
      "El fichero se ha cerrado\n"
     ]
    }
   ],
   "source": [
    "# Realizamos el mismo ejercicio pero en lugar de emplear el método \"a\" -> apend, usamos \"w\" o \"w+\" para sobreescribir\n",
    "try:\n",
    "    with open(\"pruebas2.txt\", \"w\", encoding=\"utf8\") as test_file:\n",
    "        new_line = \"Nueva línea de texto dentro de mi fichero de prueba.\"\n",
    "        test_file.write(new_line)\n",
    "    \n",
    "    # Abrimos el fichero para visualizar los cambios realizados\n",
    "    with open(\"pruebas2.txt\", \"r+\", encoding=\"utf8\") as test_file:   \n",
    "        for line in test_file:\n",
    "            print(line)\n",
    "\n",
    "    # Aún usando with open(), comprobamos que el fichero se ha cerrado correctamente...\n",
    "    if test_file.closed:\n",
    "        print(\"\\n---\\nEl fichero se ha cerrado\")\n",
    "            \n",
    "except Exception as e:\n",
    "    print(\"Error desconocido:\", type(e).__name__)"
   ]
  },
  {
   "cell_type": "markdown",
   "metadata": {},
   "source": [
    "**5) En este ejercicio deberás crear un programa que lea los datos de un fichero de texto, que transforme cada fila en un diccionario y lo añada a una lista llamada personas. Luego recorre las personas de la lista y para cada una muestra de forma amigable todos sus campos. Por ejemplo así:**\n",
    "\n",
    "```\n",
    "(id=1) Carlos Pérez => 05/01/1989 \n",
    "```\n",
    "\n",
    "El fichero de texto se denominará **personas.txt** y tendrá el siguiente contenido en texto plano (créalo previamente):\n",
    "\n",
    "```\n",
    "1;Carlos;Pérez;05/01/1989\n",
    "2;Manuel;Heredia;26/12/1973\n",
    "3;Rosa;Campos;12/06/1961\n",
    "4;David;García;25/07/2006\n",
    "```\n",
    "\n",
    "Los campos del diccionario serán por orden: **id**, **nombre**, **apellido** y **nacimiento**.\n",
    "\n",
    "**Aviso importante**: *Si quieres leer un fichero que no se ha escrito directamente con Python, entonces es posible que encuentres errores de codificación al mostrar algunos caracteres. Asegúrate de indicar la codificación del fichero manualmente durante la apertura como argumento en el **open**, por ejemplo con UTF-8:*\n",
    "\n",
    "```python\n",
    "open(..., encoding=\"utf8\")\n",
    "```\n",
    "\n",
    "Pista: Es posible que tengas que recurrir a funciones como replace o split para poder modificar el texto de una línea de texto. Busca documentación sobre ello."
   ]
  },
  {
   "cell_type": "code",
   "execution_count": 105,
   "metadata": {},
   "outputs": [
    {
     "name": "stdout",
     "output_type": "stream",
     "text": [
      "----\n",
      "El listado de personas es el siguiente:\n",
      "\n",
      "(1) Carlos Pérez => 05/01/1989\n",
      "(2) Manuel Heredia => 26/12/1973\n",
      "(3) Rosa Campos => 12/06/1961\n",
      "(4) David García => 25/07/2006\n"
     ]
    }
   ],
   "source": [
    "# función que tome cada fila de un fichero y devuelva un diccionario. Incluimos cada resultado a una lista \"personas\"\n",
    "\n",
    "personas = [] # Nuestro array vacio donde introduciremos los datos de cada persona en estructura de diccionario\n",
    "\n",
    "def lista_personas():\n",
    "    ### 1º Llamamos a los datos del fichero línea a línea y guardamos los datos por separado para poder trabajar con ello.\n",
    "    try:\n",
    "        # Abrimos el archivo en modo lectura\n",
    "        with open(\"personas.txt\", \"r\", encoding=\"utf8\") as main_file:\n",
    "            for line in main_file:\n",
    "                fixed_line = line.replace('\\n', '')\n",
    "                \n",
    "                # Ahora subdividimos el string en substrings que serán los datos de la persona\n",
    "                data = fixed_line.split(';')\n",
    "\n",
    "                # Creamos el diccionario con los datos de la persona\n",
    "                person = {\n",
    "                    \"id\": data[0],\n",
    "                    \"nombre\": data[1],\n",
    "                    \"apellido\": data[2],\n",
    "                    \"edad\": data[3]\n",
    "                }\n",
    "\n",
    "                # Agregamos la persona creada a nuestro array de personas inicial\n",
    "                personas.append(person)\n",
    "    \n",
    "    except FileNotFoundError as e:\n",
    "        print(\"No encontramos el archivo:\", type(e).__name__) \n",
    "    except Exception as e:\n",
    "        print(\"Error desconocido:\", type(e).__name__)\n",
    "\n",
    "# print(\"Nuestro array de personas como diccionario:\\n\", personas)\n",
    "\n",
    "def mostrar_personas(lista):\n",
    "    print(\"----\\nEl listado de personas es el siguiente:\\n\")\n",
    "    for person in lista:\n",
    "        print(\"({}) {} {} => {}\".format(person[\"id\"], person[\"nombre\"], person[\"apellido\"], person[\"edad\"]))\n",
    "\n",
    "lista_personas()\n",
    "mostrar_personas(personas)\n",
    "\n",
    "\n",
    "   \n"
   ]
  }
 ],
 "metadata": {
  "anaconda-cloud": {},
  "kernelspec": {
   "display_name": "Python 3",
   "language": "python",
   "name": "python3"
  },
  "language_info": {
   "codemirror_mode": {
    "name": "ipython",
    "version": 3
   },
   "file_extension": ".py",
   "mimetype": "text/x-python",
   "name": "python",
   "nbconvert_exporter": "python",
   "pygments_lexer": "ipython3",
   "version": "3.11.5"
  },
  "vscode": {
   "interpreter": {
    "hash": "aee8b7b246df8f9039afb4144a1f6fd8d2ca17a180786b69acc140d282b71a49"
   }
  }
 },
 "nbformat": 4,
 "nbformat_minor": 1
}
